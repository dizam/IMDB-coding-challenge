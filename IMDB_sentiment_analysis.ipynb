{
 "cells": [
  {
   "cell_type": "markdown",
   "id": "06f90562-3aee-459a-bd30-fa24e83c96f3",
   "metadata": {},
   "source": [
    "# Importing Packages and Downloading Dataset"
   ]
  },
  {
   "cell_type": "code",
   "execution_count": 1,
   "id": "50739b2d-ba6a-4810-a75b-f7e655cb3f71",
   "metadata": {},
   "outputs": [
    {
     "data": {
      "application/vnd.jupyter.widget-view+json": {
       "model_id": "ee4a60d26d51448bbd334561f432bd05",
       "version_major": 2,
       "version_minor": 0
      },
      "text/plain": [
       "VBox(children=(HTML(value='<center> <img\\nsrc=https://www.kaggle.com/static/images/site-logo.png\\nalt=\\'Kaggle…"
      ]
     },
     "metadata": {},
     "output_type": "display_data"
    },
    {
     "name": "stderr",
     "output_type": "stream",
     "text": [
      "[nltk_data] Downloading package stopwords to\n",
      "[nltk_data]     C:\\Users\\DJ\\AppData\\Roaming\\nltk_data...\n",
      "[nltk_data]   Package stopwords is already up-to-date!\n",
      "[nltk_data] Downloading package punkt_tab to\n",
      "[nltk_data]     C:\\Users\\DJ\\AppData\\Roaming\\nltk_data...\n",
      "[nltk_data]   Package punkt_tab is already up-to-date!\n",
      "[nltk_data] Downloading package wordnet to\n",
      "[nltk_data]     C:\\Users\\DJ\\AppData\\Roaming\\nltk_data...\n",
      "[nltk_data]   Package wordnet is already up-to-date!\n"
     ]
    },
    {
     "name": "stdout",
     "output_type": "stream",
     "text": [
      "Path to dataset files: C:\\Users\\DJ\\.cache\\kagglehub\\datasets\\lakshmi25npathi\\imdb-dataset-of-50k-movie-reviews\\versions\\1\n"
     ]
    }
   ],
   "source": [
    "import tensorflow as tf\n",
    "import kagglehub\n",
    "import pandas as pd\n",
    "kagglehub.login()\n",
    "import nltk\n",
    "nltk.download('stopwords')\n",
    "nltk.download('punkt_tab')\n",
    "nltk.download('wordnet')\n",
    "from nltk.corpus import stopwords\n",
    "from nltk.tokenize import word_tokenize\n",
    "from nltk.stem import WordNetLemmatizer\n",
    "import re\n",
    "from tensorflow.keras.preprocessing.text import Tokenizer\n",
    "from tensorflow.keras.preprocessing.sequence import pad_sequences\n",
    "from sklearn.model_selection import train_test_split\n",
    "from tensorflow.keras.callbacks import EarlyStopping\n",
    "import matplotlib.pyplot as plt\n",
    "\n",
    "\n",
    "# Download latest version\n",
    "path = kagglehub.dataset_download(\"lakshmi25npathi/imdb-dataset-of-50k-movie-reviews\")\n",
    "\n",
    "print(\"Path to dataset files:\", path)\n",
    "\n",
    "filename = 'IMDB Dataset.csv'"
   ]
  },
  {
   "cell_type": "code",
   "execution_count": 2,
   "id": "3c77b67a-adaa-4d18-92bb-e7c4e98c4c39",
   "metadata": {
    "scrolled": true
   },
   "outputs": [
    {
     "data": {
      "text/html": [
       "<div>\n",
       "<style scoped>\n",
       "    .dataframe tbody tr th:only-of-type {\n",
       "        vertical-align: middle;\n",
       "    }\n",
       "\n",
       "    .dataframe tbody tr th {\n",
       "        vertical-align: top;\n",
       "    }\n",
       "\n",
       "    .dataframe thead th {\n",
       "        text-align: right;\n",
       "    }\n",
       "</style>\n",
       "<table border=\"1\" class=\"dataframe\">\n",
       "  <thead>\n",
       "    <tr style=\"text-align: right;\">\n",
       "      <th></th>\n",
       "      <th>review</th>\n",
       "      <th>sentiment</th>\n",
       "    </tr>\n",
       "  </thead>\n",
       "  <tbody>\n",
       "    <tr>\n",
       "      <th>0</th>\n",
       "      <td>One of the other reviewers has mentioned that ...</td>\n",
       "      <td>positive</td>\n",
       "    </tr>\n",
       "    <tr>\n",
       "      <th>1</th>\n",
       "      <td>A wonderful little production. &lt;br /&gt;&lt;br /&gt;The...</td>\n",
       "      <td>positive</td>\n",
       "    </tr>\n",
       "    <tr>\n",
       "      <th>2</th>\n",
       "      <td>I thought this was a wonderful way to spend ti...</td>\n",
       "      <td>positive</td>\n",
       "    </tr>\n",
       "    <tr>\n",
       "      <th>3</th>\n",
       "      <td>Basically there's a family where a little boy ...</td>\n",
       "      <td>negative</td>\n",
       "    </tr>\n",
       "    <tr>\n",
       "      <th>4</th>\n",
       "      <td>Petter Mattei's \"Love in the Time of Money\" is...</td>\n",
       "      <td>positive</td>\n",
       "    </tr>\n",
       "  </tbody>\n",
       "</table>\n",
       "</div>"
      ],
      "text/plain": [
       "                                              review sentiment\n",
       "0  One of the other reviewers has mentioned that ...  positive\n",
       "1  A wonderful little production. <br /><br />The...  positive\n",
       "2  I thought this was a wonderful way to spend ti...  positive\n",
       "3  Basically there's a family where a little boy ...  negative\n",
       "4  Petter Mattei's \"Love in the Time of Money\" is...  positive"
      ]
     },
     "execution_count": 2,
     "metadata": {},
     "output_type": "execute_result"
    }
   ],
   "source": [
    "df = pd.read_csv(path + '\\\\' + filename)\n",
    "df.head()"
   ]
  },
  {
   "cell_type": "code",
   "execution_count": 3,
   "id": "4da48a7e-9b78-41c3-b8fb-e330833b1011",
   "metadata": {},
   "outputs": [
    {
     "name": "stdout",
     "output_type": "stream",
     "text": [
      "<class 'pandas.core.frame.DataFrame'>\n",
      "RangeIndex: 50000 entries, 0 to 49999\n",
      "Data columns (total 2 columns):\n",
      " #   Column     Non-Null Count  Dtype \n",
      "---  ------     --------------  ----- \n",
      " 0   review     50000 non-null  object\n",
      " 1   sentiment  50000 non-null  object\n",
      "dtypes: object(2)\n",
      "memory usage: 781.4+ KB\n"
     ]
    }
   ],
   "source": [
    "df.info()"
   ]
  },
  {
   "cell_type": "code",
   "execution_count": 4,
   "id": "3775a310-4de2-4a4d-baeb-603cfe17cf5c",
   "metadata": {},
   "outputs": [
    {
     "data": {
      "text/plain": [
       "review       0\n",
       "sentiment    0\n",
       "dtype: int64"
      ]
     },
     "execution_count": 4,
     "metadata": {},
     "output_type": "execute_result"
    }
   ],
   "source": [
    "df.isnull().sum()"
   ]
  },
  {
   "cell_type": "code",
   "execution_count": 5,
   "id": "05f18ef8-e970-485c-a22a-5a74acd4c9d8",
   "metadata": {},
   "outputs": [
    {
     "data": {
      "text/plain": [
       "sentiment\n",
       "positive    25000\n",
       "negative    25000\n",
       "Name: count, dtype: int64"
      ]
     },
     "execution_count": 5,
     "metadata": {},
     "output_type": "execute_result"
    }
   ],
   "source": [
    "df['sentiment'].value_counts()"
   ]
  },
  {
   "cell_type": "markdown",
   "id": "fb8ff238-ce5e-4402-b49c-89bed745ad49",
   "metadata": {},
   "source": [
    "# Preprocessing Text"
   ]
  },
  {
   "cell_type": "code",
   "execution_count": 6,
   "id": "27205fcf-c7b2-4765-948e-48854d1eaaa8",
   "metadata": {},
   "outputs": [
    {
     "name": "stdout",
     "output_type": "stream",
     "text": [
      "['a', 'about', 'above', 'after', 'again', 'against', 'ain', 'all', 'am', 'an', 'and', 'any', 'are', 'aren', \"aren't\", 'as', 'at', 'be', 'because', 'been', 'before', 'being', 'below', 'between', 'both', 'but', 'by', 'can', 'couldn', \"couldn't\", 'd', 'did', 'didn', \"didn't\", 'do', 'does', 'doesn', \"doesn't\", 'doing', 'don', \"don't\", 'down', 'during', 'each', 'few', 'for', 'from', 'further', 'had', 'hadn', \"hadn't\", 'has', 'hasn', \"hasn't\", 'have', 'haven', \"haven't\", 'having', 'he', \"he'd\", \"he'll\", 'her', 'here', 'hers', 'herself', \"he's\", 'him', 'himself', 'his', 'how', 'i', \"i'd\", 'if', \"i'll\", \"i'm\", 'in', 'into', 'is', 'isn', \"isn't\", 'it', \"it'd\", \"it'll\", \"it's\", 'its', 'itself', \"i've\", 'just', 'll', 'm', 'ma', 'me', 'mightn', \"mightn't\", 'more', 'most', 'mustn', \"mustn't\", 'my', 'myself', 'needn', \"needn't\", 'no', 'nor', 'not', 'now', 'o', 'of', 'off', 'on', 'once', 'only', 'or', 'other', 'our', 'ours', 'ourselves', 'out', 'over', 'own', 're', 's', 'same', 'shan', \"shan't\", 'she', \"she'd\", \"she'll\", \"she's\", 'should', 'shouldn', \"shouldn't\", \"should've\", 'so', 'some', 'such', 't', 'than', 'that', \"that'll\", 'the', 'their', 'theirs', 'them', 'themselves', 'then', 'there', 'these', 'they', \"they'd\", \"they'll\", \"they're\", \"they've\", 'this', 'those', 'through', 'to', 'too', 'under', 'until', 'up', 've', 'very', 'was', 'wasn', \"wasn't\", 'we', \"we'd\", \"we'll\", \"we're\", 'were', 'weren', \"weren't\", \"we've\", 'what', 'when', 'where', 'which', 'while', 'who', 'whom', 'why', 'will', 'with', 'won', \"won't\", 'wouldn', \"wouldn't\", 'y', 'you', \"you'd\", \"you'll\", 'your', \"you're\", 'yours', 'yourself', 'yourselves', \"you've\"]\n"
     ]
    }
   ],
   "source": [
    "english_stopwords = stopwords.words('english')\n",
    "print(english_stopwords)"
   ]
  },
  {
   "cell_type": "markdown",
   "id": "5675e570-8972-4c59-bada-e050dc3d2de7",
   "metadata": {},
   "source": [
    "Using the standard nltk stopword list, we notice many negative words such as no, nor, and not which can reduce the accuracy of our sentiment analysis model. For example, the sentence \"This movie is not good\" would be reduced to \"This movie is good\", which has a completely different meaning and changes the review from negative to positive. Thus, I decided to not apply stopworld removal, especially because my approach is using a RNN with LSTM and the model can gain additional context leaving those stopwords in.\n",
    "\n",
    "I also built the model without lemmatized text and with lemmatized text and found the accuracy to be almost identical, so I doubt lemmatization is particularly useful for an RNN, but I left it in since this processing step only took one minute to compile."
   ]
  },
  {
   "cell_type": "code",
   "execution_count": 7,
   "id": "932bca9e-1d29-4916-a11a-ba509720fdf1",
   "metadata": {},
   "outputs": [],
   "source": [
    "def preprocess_text(text):\n",
    "    tokens = word_tokenize(text)\n",
    "    lemmatizer = WordNetLemmatizer()\n",
    "    lemmatized_tokens = [lemmatizer.lemmatize(token) for token in tokens]\n",
    "    text = ' '.join(lemmatized_tokens) #lemmatize text\n",
    "    \n",
    "    text = text.lower() #convert to lowercase\n",
    "    text = re.sub(r'<[^>]+>', '', text) # remove HTML tags\n",
    "    text = re.sub(r'http\\S+ | www\\S+', '', text) # Remove links\n",
    "    text = re.sub(r'[^a-zA-Z0-9\\s]', '', text) #remove nonalphanumeric characters and punctuation\n",
    "    \n",
    "    #text = ' '.join([t for t in tokens if t not in english_stopwords]) #remove stopwords\n",
    "    return text"
   ]
  },
  {
   "cell_type": "code",
   "execution_count": 8,
   "id": "78d3543e-6e83-4105-934c-46307914ce69",
   "metadata": {},
   "outputs": [
    {
     "data": {
      "text/html": [
       "<div>\n",
       "<style scoped>\n",
       "    .dataframe tbody tr th:only-of-type {\n",
       "        vertical-align: middle;\n",
       "    }\n",
       "\n",
       "    .dataframe tbody tr th {\n",
       "        vertical-align: top;\n",
       "    }\n",
       "\n",
       "    .dataframe thead th {\n",
       "        text-align: right;\n",
       "    }\n",
       "</style>\n",
       "<table border=\"1\" class=\"dataframe\">\n",
       "  <thead>\n",
       "    <tr style=\"text-align: right;\">\n",
       "      <th></th>\n",
       "      <th>review</th>\n",
       "      <th>sentiment</th>\n",
       "    </tr>\n",
       "  </thead>\n",
       "  <tbody>\n",
       "    <tr>\n",
       "      <th>0</th>\n",
       "      <td>one of the other reviewer ha mentioned that af...</td>\n",
       "      <td>positive</td>\n",
       "    </tr>\n",
       "    <tr>\n",
       "      <th>1</th>\n",
       "      <td>a wonderful little production    the filming t...</td>\n",
       "      <td>positive</td>\n",
       "    </tr>\n",
       "    <tr>\n",
       "      <th>2</th>\n",
       "      <td>i thought this wa a wonderful way to spend tim...</td>\n",
       "      <td>positive</td>\n",
       "    </tr>\n",
       "    <tr>\n",
       "      <th>3</th>\n",
       "      <td>basically there s a family where a little boy ...</td>\n",
       "      <td>negative</td>\n",
       "    </tr>\n",
       "    <tr>\n",
       "      <th>4</th>\n",
       "      <td>petter mattei s  love in the time of money  is...</td>\n",
       "      <td>positive</td>\n",
       "    </tr>\n",
       "  </tbody>\n",
       "</table>\n",
       "</div>"
      ],
      "text/plain": [
       "                                              review sentiment\n",
       "0  one of the other reviewer ha mentioned that af...  positive\n",
       "1  a wonderful little production    the filming t...  positive\n",
       "2  i thought this wa a wonderful way to spend tim...  positive\n",
       "3  basically there s a family where a little boy ...  negative\n",
       "4  petter mattei s  love in the time of money  is...  positive"
      ]
     },
     "execution_count": 8,
     "metadata": {},
     "output_type": "execute_result"
    }
   ],
   "source": [
    "df['review'] = df['review'].apply(preprocess_text)\n",
    "df.head()"
   ]
  },
  {
   "cell_type": "code",
   "execution_count": 9,
   "id": "ef46e371-34f0-47d8-a986-4f133748d07b",
   "metadata": {},
   "outputs": [
    {
     "name": "stdout",
     "output_type": "stream",
     "text": [
      "314\n",
      "158\n",
      "167\n",
      "135\n",
      "228\n",
      "123\n",
      "155\n",
      "177\n",
      "127\n",
      "32\n",
      "93\n",
      "179\n",
      "403\n",
      "113\n",
      "51\n",
      "143\n",
      "147\n",
      "222\n",
      "129\n",
      "138\n",
      "314\n",
      "180\n",
      "68\n",
      "326\n",
      "152\n",
      "113\n",
      "576\n",
      "143\n",
      "125\n",
      "615\n",
      "407\n",
      "349\n",
      "104\n",
      "655\n",
      "261\n",
      "373\n",
      "98\n",
      "308\n",
      "120\n",
      "268\n",
      "121\n",
      "212\n",
      "174\n",
      "260\n",
      "183\n",
      "231\n",
      "79\n",
      "145\n",
      "703\n",
      "99\n",
      "419\n",
      "625\n",
      "165\n",
      "83\n",
      "199\n",
      "207\n",
      "212\n",
      "172\n",
      "493\n",
      "445\n",
      "171\n",
      "151\n",
      "82\n",
      "48\n",
      "183\n",
      "293\n",
      "334\n",
      "144\n",
      "211\n",
      "295\n",
      "226\n",
      "281\n",
      "246\n",
      "190\n",
      "275\n",
      "157\n",
      "308\n",
      "621\n",
      "138\n",
      "292\n",
      "165\n",
      "151\n",
      "260\n",
      "430\n",
      "74\n",
      "150\n",
      "299\n",
      "144\n",
      "191\n",
      "353\n",
      "169\n",
      "193\n",
      "394\n",
      "174\n",
      "145\n",
      "267\n",
      "191\n",
      "136\n",
      "189\n",
      "526\n"
     ]
    }
   ],
   "source": [
    "for sentence in df['review'].head(100):\n",
    "    words = sentence.split()\n",
    "    print(len(words))\n"
   ]
  },
  {
   "cell_type": "markdown",
   "id": "1662273d-f5b1-4996-b314-1bb2f39a7a77",
   "metadata": {},
   "source": [
    "We can see from a quick sampling that most reviews fall under 500 words with some particularly lengthy reviews going above that, so I decided to use a padding size of 1024 to capture the dataset. Leaving it to default (the length of the longest review) would work fine as well but perhaps increase time needed to build the sequences."
   ]
  },
  {
   "cell_type": "code",
   "execution_count": 10,
   "id": "35b3156c-a400-449f-b44a-57cb02272fcd",
   "metadata": {},
   "outputs": [],
   "source": [
    "# tokenize and pad the reviews for RNN processing\n",
    "tokenizer = Tokenizer(num_words=10000, oov_token='<OOV>')\n",
    "tokenizer.fit_on_texts(df['review'])\n",
    "sequences = tokenizer.texts_to_sequences(df['review'])\n",
    "padded_sequences = pad_sequences(sequences, 1024) #1000 would capture most of the reviews for padding, 1024 for power of 2"
   ]
  },
  {
   "cell_type": "code",
   "execution_count": 11,
   "id": "16d8a710-d5c6-4d92-8b37-306fe3977f78",
   "metadata": {},
   "outputs": [],
   "source": [
    "# change positive/negative to 1/0 for easier processing in RNN\n",
    "df['sentiment'] = df['sentiment'].apply(lambda x: 1 if x == 'positive' else 0)\n",
    "\n",
    "# split data for train/test from tensorflow. X = word reviews and Y = 1/0 for positive/negative review.\n",
    "X = padded_sequences\n",
    "y = df['sentiment'].values"
   ]
  },
  {
   "cell_type": "markdown",
   "id": "ec298c34-0545-4bc6-8362-69b31f6a2ec9",
   "metadata": {},
   "source": [
    "# Building the LSTM RNN"
   ]
  },
  {
   "cell_type": "code",
   "execution_count": 12,
   "id": "38e1e61c-feb4-487c-8a23-3bceaee6f8a5",
   "metadata": {},
   "outputs": [],
   "source": [
    "X_train, X_test, y_train, y_test = train_test_split(X, y, test_size=0.2, random_state=42) #80% training data, 20% test data."
   ]
  },
  {
   "cell_type": "code",
   "execution_count": 13,
   "id": "64194d01-7a13-42c4-9fee-df0375fd7a4d",
   "metadata": {},
   "outputs": [],
   "source": [
    "model = tf.keras.Sequential([\n",
    "    tf.keras.layers.Embedding(10000, 128), #recommended embedding dimension size is 100 to 300 for NLP\n",
    "    tf.keras.layers.LSTM(64, return_sequences=True),\n",
    "    tf.keras.layers.LSTM(32),\n",
    "    tf.keras.layers.Dense(24, activation='relu'),\n",
    "    tf.keras.layers.Dense(1, activation='sigmoid')\n",
    "]) #embedding layer, two LSTM layers, and two dense layers for NLP. 2-3 LSTM layers recommended for this type of problem.\n",
    "\n",
    "model.compile(\n",
    "    loss='binary_crossentropy',\n",
    "    optimizer='adam',\n",
    "    metrics=['accuracy']\n",
    ")\n",
    "\n",
    "# early stopping callback. used to automatically determine a good number of epochs for training\n",
    "early_stopping = EarlyStopping(monitor='val_loss', patience=10, restore_best_weights=True)\n",
    "\n",
    "# Train the model with early stopping\n",
    "history = model.fit(X_train, y_train,\n",
    "                    epochs=150,\n",
    "                    batch_size=5,\n",
    "                    validation_split=0.2,\n",
    "                    callbacks=[early_stopping],\n",
    "                    verbose=0)"
   ]
  },
  {
   "cell_type": "markdown",
   "id": "5a96a5f8-01e4-4679-8e6b-c00543ab5159",
   "metadata": {},
   "source": [
    "I first decided to use two LSTM layers with a 64 hidden unit layer feeding into a 32 hidden unit layer and was satisfied with the accuracy. If I wanted to optimize the accuracy even further, I could tune the hyperparameters by changing the number of hidden units, changing the number of LSTM layers, or changing the dense layers and test what parameters would give me the best results.\n",
    "\n",
    "I also used early stopping to best choose the number of epochs to avoid overfitting. More epochs would most likely reduce validation accuracy while training accuracy continued to improve (overfitting), while less epochs would reduce training accuracy and make the model too simple to deal with certain types of reviews (underfitting)."
   ]
  },
  {
   "cell_type": "markdown",
   "id": "712f964b-c69b-4677-ad16-c890fd7bb737",
   "metadata": {},
   "source": [
    "# Accuracy and Sample Reviews"
   ]
  },
  {
   "cell_type": "code",
   "execution_count": 14,
   "id": "422e9133-0cf4-4c91-91d2-1f8b59153651",
   "metadata": {},
   "outputs": [
    {
     "data": {
      "image/png": "[encoded data removed]",
      "text/plain": [
       "<Figure size 640x480 with 1 Axes>"
      ]
     },
     "metadata": {},
     "output_type": "display_data"
    }
   ],
   "source": [
    "plt.plot(history.history['accuracy'], label='Training Accuracy')\n",
    "plt.plot(history.history['val_accuracy'], label='Validation Accuracy')\n",
    "plt.xlabel('Epochs')\n",
    "plt.ylabel('Accuracy')\n",
    "plt.legend()\n",
    "plt.show()"
   ]
  },
  {
   "cell_type": "code",
   "execution_count": 15,
   "id": "f7ab65c4-aba7-4101-96d6-02f45a5dace0",
   "metadata": {},
   "outputs": [
    {
     "name": "stdout",
     "output_type": "stream",
     "text": [
      "\u001b[1m313/313\u001b[0m \u001b[32m━━━━━━━━━━━━━━━━━━━━\u001b[0m\u001b[37m\u001b[0m \u001b[1m37s\u001b[0m 116ms/step - accuracy: 0.9099 - loss: 0.2413\n",
      "Test Loss: 0.24\n",
      "Test Accuracy: 0.91\n"
     ]
    }
   ],
   "source": [
    "test_loss, test_accuracy = model.evaluate(X_test, y_test)\n",
    "print(f\"Test Loss: {test_loss:.2f}\")\n",
    "print(f'Test Accuracy: {test_accuracy:.2f}')"
   ]
  },
  {
   "cell_type": "code",
   "execution_count": 16,
   "id": "0800868b-3380-4477-82a4-7d3aca15ed4d",
   "metadata": {},
   "outputs": [
    {
     "name": "stdout",
     "output_type": "stream",
     "text": [
      "\u001b[1m1/1\u001b[0m \u001b[32m━━━━━━━━━━━━━━━━━━━━\u001b[0m\u001b[37m\u001b[0m \u001b[1m0s\u001b[0m 305ms/step\n",
      "['Positive', 'Negative', 'Negative', 'Positive']\n"
     ]
    }
   ],
   "source": [
    "sample_reviews = [\n",
    "    \"This movie was great! The plot was thrilling and kept me engaged the entire time.\",\n",
    "    \"The film was terrible, I don't even know what happened after two hours\",\n",
    "    \"It wasn't bad but definitely not great. There were some good scenes but it dragged on pretty long. Overall a 4/10.\",\n",
    "    \"The movie was pretty decent. I liked the ending.\"\n",
    "]\n",
    "\n",
    "sample_sequences = tokenizer.texts_to_sequences(sample_reviews)\n",
    "sample_padded = pad_sequences(sample_sequences, 1024)\n",
    "\n",
    "predictions = model.predict(sample_padded)\n",
    "print([\"Positive\" if prob > 0.5 else \"Negative\" for prob in predictions])"
   ]
  }
 ],
 "metadata": {
  "kernelspec": {
   "display_name": "Python 3 (ipykernel)",
   "language": "python",
   "name": "python3"
  },
  "language_info": {
   "codemirror_mode": {
    "name": "ipython",
    "version": 3
   },
   "file_extension": ".py",
   "mimetype": "text/x-python",
   "name": "python",
   "nbconvert_exporter": "python",
   "pygments_lexer": "ipython3",
   "version": "3.12.3"
  }
 },
 "nbformat": 4,
 "nbformat_minor": 5
}
